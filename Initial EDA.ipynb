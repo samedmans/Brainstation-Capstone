{
 "cells": [
  {
   "cell_type": "markdown",
   "id": "bb90d05c-10fb-4abb-8b5e-747d17a05df2",
   "metadata": {},
   "source": [
    "# Initial EDA"
   ]
  },
  {
   "cell_type": "code",
   "execution_count": 1,
   "id": "9f5949e1-405c-4f40-b141-89d02a617038",
   "metadata": {},
   "outputs": [],
   "source": [
    "# Importing the necessary libraries to conduct EDA\n",
    "import pandas as pd\n",
    "import numpy as np\n",
    "import matplotlib.pyplot as plt\n",
    "import seaborn as sns\n",
    "from sklearn.pipeline import Pipeline\n",
    "from sklearn.preprocessing import StandardScaler\n",
    "from sklearn.cluster import KMeans\n",
    "from sklearn.pipeline import Pipeline\n",
    "from sklearn.decomposition import PCA\n",
    "import plotly.express as px\n",
    "from sklearn.manifold import TSNE\n",
    "import spotipy\n",
    "from spotipy.oauth2 import SpotifyClientCredentials\n",
    "from collections import defaultdict\n",
    "from sklearn.metrics import euclidean_distances\n",
    "from scipy.spatial.distance import cdist\n",
    "import difflib\n",
    "from spotipy.oauth2 import SpotifyOAuth\n",
    "\n",
    "import warnings\n",
    "warnings.filterwarnings('ignore')"
   ]
  },
  {
   "cell_type": "code",
   "execution_count": null,
   "id": "60f04d8a-9115-4ca9-a68b-09293f01da15",
   "metadata": {},
   "outputs": [],
   "source": [
    "# Importing data from csv file and aliasing\n",
    "song_df = pd.read_csv('tracks_features.csv')"
   ]
  },
  {
   "cell_type": "code",
   "execution_count": null,
   "id": "78a01dd0-4d37-432a-886e-4fe7b269bbd1",
   "metadata": {},
   "outputs": [],
   "source": [
    "# Observing df head to sense check\n",
    "song_df.head()"
   ]
  },
  {
   "cell_type": "code",
   "execution_count": null,
   "id": "95c63bbb-59c7-4620-8344-2f06892af258",
   "metadata": {},
   "outputs": [],
   "source": [
    "# Observing the df columns to further sense check and ensure rename successful\n",
    "song_df.columns"
   ]
  },
  {
   "cell_type": "code",
   "execution_count": null,
   "id": "b9d7e737-d361-4122-a7a1-d3f43345f399",
   "metadata": {},
   "outputs": [],
   "source": [
    "# Observing the data types\n",
    "song_df.dtypes"
   ]
  },
  {
   "cell_type": "code",
   "execution_count": null,
   "id": "5ebfb9fb-5360-45dc-88e5-ff35eb7dc070",
   "metadata": {},
   "outputs": [],
   "source": [
    "# Observing the df shape\n",
    "song_df.shape"
   ]
  },
  {
   "cell_type": "code",
   "execution_count": null,
   "id": "93838609-e5d3-40b9-bebe-d4add7be8490",
   "metadata": {},
   "outputs": [],
   "source": [
    "# Looking at df info to sense check further\n",
    "print(song_df.info)"
   ]
  },
  {
   "cell_type": "code",
   "execution_count": null,
   "id": "c0a9b1bd-a2d6-48aa-949d-a9b2d8143f7b",
   "metadata": {},
   "outputs": [],
   "source": [
    "# Describing the df to sense check\n",
    "song_df.describe()"
   ]
  },
  {
   "cell_type": "code",
   "execution_count": null,
   "id": "22551821-6d10-4f51-9527-c5c2db9502ba",
   "metadata": {},
   "outputs": [],
   "source": [
    "# Selecting only the numerical columns\n",
    "numerical_columns = song_df.select_dtypes(include=['number'])\n",
    "\n",
    "# Getting the list of numerical column names\n",
    "numerical_column_names = numerical_columns.columns\n",
    "\n",
    "# Iterating through each numerical column and creating a histogram\n",
    "for column in numerical_column_names:\n",
    "    plt.figure(figsize=(10, 6))\n",
    "    numerical_columns[column].hist(bins=20)\n",
    "    plt.title(f'Histogram for {column}')\n",
    "    plt.xlabel(column)\n",
    "    plt.ylabel('Frequency')\n",
    "    plt.show()"
   ]
  },
  {
   "cell_type": "markdown",
   "id": "22a0413f-76ba-42db-9f6b-79af38566266",
   "metadata": {},
   "source": [
    "We want to see enough variability in the features of the songs in our dataset. The reason being if there is not enough variability there will not be any way to differentiate between our songs. If this is the case we won't be able to construct a particularly good recommendation engine!"
   ]
  },
  {
   "cell_type": "code",
   "execution_count": null,
   "id": "12c8411a-a013-49fa-b7e7-8a2ee7062845",
   "metadata": {},
   "outputs": [],
   "source": [
    "# Plotting year again, as histogram scale (above) does not give enough granularity\n",
    "plt.figure(figsize=(10, 6))\n",
    "song_df['year'].hist(bins=800)\n",
    "plt.title('Histogram for Year')\n",
    "plt.xlabel('Year')\n",
    "plt.ylabel('Frequency')\n",
    "\n",
    "# Setting the x-axis range\n",
    "plt.xlim(1900, 2024)\n",
    "plt.show()"
   ]
  },
  {
   "cell_type": "markdown",
   "id": "f367fce6-0b1c-4f5d-9656-e5a1d1500110",
   "metadata": {},
   "source": [
    "From the above we can see the data is somewhat limited in that we have no data prior to 2020. However, we have sufficient data to create a good recommendation engine. With further resource we could use Cloud services to host a much larger dataset."
   ]
  },
  {
   "cell_type": "code",
   "execution_count": null,
   "id": "e5597e14-b3cb-460f-afdf-a0e73d3962ea",
   "metadata": {},
   "outputs": [],
   "source": [
    "# Count plot of explicit songs\n",
    "plt.figure(figsize=(10, 6))\n",
    "sns.countplot(x='explicit', data=song_df)\n",
    "plt.title('Count Plot for Explicit Songs')\n",
    "plt.xlabel('Explicit')\n",
    "plt.ylabel('Frequency')\n",
    "plt.show()"
   ]
  },
  {
   "cell_type": "markdown",
   "id": "ec031ed2-14f1-458e-99b4-1b0c696fca72",
   "metadata": {},
   "source": [
    "### Null Values"
   ]
  },
  {
   "cell_type": "code",
   "execution_count": null,
   "id": "57fcaa3a-de9f-4e5c-bc23-60d06f136555",
   "metadata": {},
   "outputs": [],
   "source": [
    "# Investigating null values\n",
    "song_df.isnull().sum()"
   ]
  },
  {
   "cell_type": "markdown",
   "id": "7179f946-3903-45b5-85ba-2dffd45e4cd6",
   "metadata": {},
   "source": [
    "The data is incredibly clean with only 3 null values in the 'name' column and 11 null values in the 'album' column - we will address the null values later, since we have so few null values there shouldn't be a huge impact on the accuracy of the model."
   ]
  },
  {
   "cell_type": "markdown",
   "id": "7bee28d0-cdb1-4576-80c6-94bf2838b1d7",
   "metadata": {},
   "source": [
    "### Multicolinearity"
   ]
  },
  {
   "cell_type": "markdown",
   "id": "b812e8e9-4d44-40ff-b580-a84c78e7c823",
   "metadata": {},
   "source": [
    "Plotting a correlation heatmap to understand correlation between numerical variables and give an idea of multicollinearity."
   ]
  },
  {
   "cell_type": "code",
   "execution_count": null,
   "id": "cd1055d3-351b-4fc4-8f1b-7cd6d872556d",
   "metadata": {},
   "outputs": [],
   "source": [
    "# Calculating the correlation matrix\n",
    "correlation_matrix = numerical_columns.corr()\n",
    "\n",
    "# Setting up the matplotlib figure\n",
    "plt.figure(figsize=(12, 10))\n",
    "\n",
    "# Creating a Seaborn heatmap\n",
    "sns.heatmap(correlation_matrix, annot=True, cmap='coolwarm', fmt='.2f', linewidths=0.5)\n",
    "\n",
    "# Customising the plot\n",
    "plt.title('Correlation Heatmap of Numerical Columns in song_df')\n",
    "plt.show()"
   ]
  },
  {
   "cell_type": "markdown",
   "id": "6d94ffd3-919b-45b8-8c6b-0c7c5bb4fbfa",
   "metadata": {},
   "source": [
    "# Genres Dataset"
   ]
  },
  {
   "cell_type": "code",
   "execution_count": null,
   "id": "1b558c09-aa6b-4b0a-8d20-8a87737859e1",
   "metadata": {},
   "outputs": [],
   "source": [
    "# Importing data from csv file and aliasing\n",
    "genre_df = pd.read_csv('data_by_genres.csv')"
   ]
  },
  {
   "cell_type": "code",
   "execution_count": null,
   "id": "484cf59d-df2a-49bc-a77b-484ee11f17e7",
   "metadata": {},
   "outputs": [],
   "source": [
    "# Exploring df \n",
    "genre_df.head()"
   ]
  },
  {
   "cell_type": "code",
   "execution_count": null,
   "id": "1d5a4a8d-9d6e-4ffa-b063-fe810a0c68dd",
   "metadata": {},
   "outputs": [],
   "source": [
    "# Investigating df columns\n",
    "genre_df.columns"
   ]
  },
  {
   "cell_type": "code",
   "execution_count": null,
   "id": "7d66cdfb-a696-4af9-9ebc-70067a782135",
   "metadata": {},
   "outputs": [],
   "source": [
    "# Investigating df shape\n",
    "genre_df.shape"
   ]
  },
  {
   "cell_type": "code",
   "execution_count": null,
   "id": "15a9c1a4-0939-4320-93d5-2b54395b4331",
   "metadata": {},
   "outputs": [],
   "source": [
    "# Investigating the number of unique genres to understand likelihood of meaningful clusters\n",
    "unique_genres_count = genre_df['genres'].nunique()\n",
    "print(\"Number of unique values in the 'genre' column:\", unique_genres_count)"
   ]
  }
 ],
 "metadata": {
  "kernelspec": {
   "display_name": "Python 3 (ipykernel)",
   "language": "python",
   "name": "python3"
  },
  "language_info": {
   "codemirror_mode": {
    "name": "ipython",
    "version": 3
   },
   "file_extension": ".py",
   "mimetype": "text/x-python",
   "name": "python",
   "nbconvert_exporter": "python",
   "pygments_lexer": "ipython3",
   "version": "3.11.7"
  }
 },
 "nbformat": 4,
 "nbformat_minor": 5
}
